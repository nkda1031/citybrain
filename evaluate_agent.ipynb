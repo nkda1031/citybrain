{
 "cells": [
  {
   "cell_type": "code",
   "execution_count": 1,
   "id": "64436e04",
   "metadata": {
    "scrolled": true
   },
   "outputs": [
    {
     "name": "stderr",
     "output_type": "stream",
     "text": [
      "/usr/local/lib/python3.7/dist-packages/ray/autoscaler/_private/cli_logger.py:61: FutureWarning: Not all Ray CLI dependencies were found. In Ray 1.4+, the Ray CLI, autoscaler, and dashboard will only be usable via `pip install 'ray[default]'`. Please update your install command.\n",
      "  \"update your install command.\", FutureWarning)\n"
     ]
    }
   ],
   "source": [
    "############################# needed for creating strategy\n",
    "import os\n",
    "import sys\n",
    "sys.path.append(\"agent/util\")\n",
    "from simulation import BridgeAgent\n",
    "from strategy import Strategy,StrategyActionSolver,MainSubStrategy,RandomMixStrategy\n",
    "\n",
    "############################# needed for evaluating a strategy\n",
    "import pprint\n",
    "import itertools\n",
    "\n",
    "from tqdm.notebook import tqdm\n",
    "\n",
    "from simulation import Simulator,FixedActionSolver,exportJsonForVisualization,logger as simulation_logger\n",
    "from visualizer import displayRoadNetStatistics\n",
    "\n",
    "############################# log level setting\n",
    "import logging\n",
    "logging.basicConfig(level=logging.ERROR)\n",
    "simulation_logger.setLevel(logging.INFO)\n",
    "\n",
    "#############################\n",
    "sys.path.append(\"agent\")\n",
    "from CBEngine_round3 import CBEngine_round3 as CBEngine_rllib_class\n",
    "\n",
    "class SimulatorRunner:\n",
    "    def __init__(self,\n",
    "            simulator_cfg_file,\n",
    "            metric_period,\n",
    "            exportAgentLog=False,\n",
    "            earlyStoppingDelayIndex=1.6,\n",
    "        ):\n",
    "        sim=Simulator(CBEngine_rllib_class,simulator_cfg_file,metric_period)\n",
    "\n",
    "        print(\"****** simulator_configs ******\")\n",
    "        pprint.pprint(sim.simulator_configs)\n",
    "        print(\"****** roadNet summary ******\")\n",
    "        sim.roadNet.printSummary()\n",
    "        print(\"****** roadNet statistics ******\")\n",
    "        displayRoadNetStatistics(sim.roadNet)\n",
    "        \n",
    "        self.sim=sim\n",
    "        self.exportAgentLogPath=sim.simulator_configs['report_log_addr']+\"agent.txt\" if exportAgentLog else None\n",
    "        self.earlyStoppingDelayIndex=earlyStoppingDelayIndex\n",
    "        \n",
    "        self.total_served_vehicles_dic={}\n",
    "        self.delay_index_dic={}\n",
    "        self.lastTime_dic={}\n",
    "\n",
    "    def runActionSolver(self,\n",
    "            actionSolver,\n",
    "            exportActionLogPath=None,\n",
    "            recordKey=None\n",
    "        ):\n",
    "        print(\"****** evaluation ******\")\n",
    "        total_served_vehicles,delay_index,lastTime=self.sim.evaluate(\n",
    "            BridgeAgent(actionSolver),\n",
    "            earlyStoppingDelayIndex=self.earlyStoppingDelayIndex,\n",
    "            tqdm=tqdm\n",
    "        )\n",
    "        if recordKey is not None:\n",
    "            self.total_served_vehicles_dic[recordKey]=total_served_vehicles\n",
    "            self.delay_index_dic[recordKey]=delay_index\n",
    "            self.lastTime_dic[recordKey]=lastTime\n",
    "        \n",
    "        if exportActionLogPath is not None:\n",
    "            actionSolver.exportActionLog(exportActionLogPath)\n",
    "            print(\"action log exported:\",exportActionLogPath)\n",
    "            \n",
    "    def runStrategy(self,\n",
    "            strategy,\n",
    "            actionTestCount,\n",
    "            exportActionLogPath=None,\n",
    "            recordKey=None\n",
    "        ):\n",
    "        actionSolver = StrategyActionSolver(\n",
    "            strategy,\n",
    "            export_agent_log_path=self.exportAgentLogPath,\n",
    "            action_test_count=actionTestCount\n",
    "        )\n",
    "        self.runActionSolver(actionSolver,exportActionLogPath,recordKey)\n",
    "            \n",
    "    def printAllEvalRecord(self):\n",
    "        print(\"****** all evaluation record ******\")\n",
    "        pprint.pprint(self.total_served_vehicles_dic)\n",
    "        pprint.pprint(self.delay_index_dic)\n",
    "        pprint.pprint(self.lastTime_dic)\n",
    "        "
   ]
  },
  {
   "cell_type": "code",
   "execution_count": 2,
   "id": "a9660988",
   "metadata": {
    "scrolled": true
   },
   "outputs": [
    {
     "name": "stdout",
     "output_type": "stream",
     "text": [
      "****** simulator_configs ******\n",
      "{'max_time_epoch': 1200,\n",
      " 'report_log_addr': '/starter-kit/log/0/',\n",
      " 'report_log_mode': 'normal',\n",
      " 'report_log_rate': 10,\n",
      " 'road_file_addr': '/starter-kit/data/roadnet_round3.txt',\n",
      " 'start_time_epoch': 0,\n",
      " 'vehicle_file_addr': '/starter-kit/data/flow_round3_flow0.txt',\n",
      " 'warning_stop_time_log': 100}\n",
      "****** roadNet summary ******\n",
      "RoadDataSet has 3041 RoadSegmant, 6082 Road.\n",
      "IntersectionDataSet has 2067 Intersection, 1004 Signal.\n",
      "****** roadNet statistics ******\n",
      "histgram of RoadSegment\n"
     ]
    },
    {
     "data": {
      "text/plain": [
       "<Figure size 432x288 with 0 Axes>"
      ]
     },
     "metadata": {},
     "output_type": "display_data"
    },
    {
     "data": {
      "image/png": "[encoded data removed]",
      "text/plain": [
       "<Figure size 1080x216 with 3 Axes>"
      ]
     },
     "metadata": {
      "needs_background": "light"
     },
     "output_type": "display_data"
    },
    {
     "name": "stdout",
     "output_type": "stream",
     "text": [
      "RoadSegment stat\n"
     ]
    },
    {
     "data": {
      "text/plain": [
       "11.111111    1015\n",
       "16.666667     925\n",
       "13.888889     694\n",
       "22.222222     351\n",
       "5.555556       28\n",
       "2.777778       28\n",
       "Name: speedLimit, dtype: int64"
      ]
     },
     "metadata": {},
     "output_type": "display_data"
    },
    {
     "name": "stdout",
     "output_type": "stream",
     "text": [
      "Road stat\n"
     ]
    },
    {
     "data": {
      "text/plain": [
       "[1, 0, 0, 0, 1, 0, 0, 0, 1]    6082\n",
       "Name: permissibleMovementList, dtype: int64"
      ]
     },
     "metadata": {},
     "output_type": "display_data"
    },
    {
     "name": "stdout",
     "output_type": "stream",
     "text": [
      "Intersection stat\n"
     ]
    },
    {
     "data": {
      "text/plain": [
       "3    964\n",
       "4    592\n",
       "2    311\n",
       "1    200\n",
       "Name: numRoadSegment, dtype: int64"
      ]
     },
     "metadata": {},
     "output_type": "display_data"
    },
    {
     "name": "stdout",
     "output_type": "stream",
     "text": [
      "Signal stat\n"
     ]
    },
    {
     "data": {
      "text/plain": [
       "4    507\n",
       "3    497\n",
       "Name: numRoadSegment, dtype: int64"
      ]
     },
     "metadata": {},
     "output_type": "display_data"
    },
    {
     "name": "stdout",
     "output_type": "stream",
     "text": [
      "saved model signature ConcreteFunction signature_wrapper(*, inputs)\n",
      "  Args:\n",
      "    inputs: float32 Tensor, shape=(None, 597)\n",
      "  Returns:\n",
      "    {'output_0': <1>, 'output_1': <2>, 'output_2': <3>, 'output_3': <4>}\n",
      "      <1>: float32 Tensor, shape=(None, 4, 8, 64)\n",
      "      <2>: float32 Tensor, shape=(None, 4, 8, 64)\n",
      "      <3>: float32 Tensor, shape=(None, 8, 1)\n",
      "      <4>: float32 Tensor, shape=(None, 8, 1)\n",
      "****** evaluation ******\n"
     ]
    },
    {
     "data": {
      "application/vnd.jupyter.widget-view+json": {
       "model_id": "c874e9f828a84e799ca7a0a2604412ac",
       "version_major": 2,
       "version_minor": 0
      },
      "text/plain": [
       "0it [00:00, ?it/s]"
      ]
     },
     "metadata": {},
     "output_type": "display_data"
    },
    {
     "name": "stderr",
     "output_type": "stream",
     "text": [
      "INFO:simulation_util.py:****************************************\n",
      "INFO:simulation_util.py:start to simulate\n",
      "INFO:simulation_util.py:total evaluation cost 654.6295552253723 s\n"
     ]
    },
    {
     "name": "stdout",
     "output_type": "stream",
     "text": [
      "-----result----\n",
      "last time : 1199\n",
      "num served vehicles : 74926\n",
      "delay index : 1.6037231105992107\n",
      "---------------\n"
     ]
    },
    {
     "name": "stderr",
     "output_type": "stream",
     "text": [
      "INFO:simulation_util.py:****************************************\n",
      "INFO:simulation_util.py:Evaluation complete\n"
     ]
    },
    {
     "name": "stdout",
     "output_type": "stream",
     "text": [
      "action log exported: action_log/round2_18_18_5_r1_dnn0_rule1_1.json\n"
     ]
    }
   ],
   "source": [
    "##################################### 混合strategyのテストを実行します\n",
    "###parameters for simulator\n",
    "simulator_cfg_file = \"cfg/simulator_round3_flow0.cfg\"\n",
    "metric_period = 200\n",
    "earlyStoppingDelayIndex=1.6\n",
    "\n",
    "###parameters for DNN agent\n",
    "dnnCheckpointFileName=\"round2_18_18_5_r1.ckpt\"\n",
    "dnnNumSegmentInbound=18\n",
    "dnnNumSegmentOutbound=18\n",
    "dimVehiclesVec=64\n",
    "unitsDict={\n",
    "    'inbound':[64,64,64,64],\n",
    "}\n",
    "\n",
    "###parameters for rule base agent\n",
    "#maxDepth=4####\n",
    "timeThresForCalcReward=10.2\n",
    "prohibitDecreasingGoalDistance=True\n",
    "prohibitDecreasingSpeed=True\n",
    "depth=1####\n",
    "\n",
    "###parameters for mixing strategy \n",
    "dnnStrategyRatio=0\n",
    "ruleStrategyRatio=1\n",
    "\n",
    "###parameters for actionSolver\n",
    "actionTestCount=1\n",
    "exportAgentLog=True\n",
    "\n",
    "###parameters for visualization\n",
    "exportForVisualization=False\n",
    "\n",
    "#####################################\n",
    "runner=SimulatorRunner(\n",
    "    simulator_cfg_file,\n",
    "    metric_period,\n",
    "    exportAgentLog,\n",
    "    earlyStoppingDelayIndex,\n",
    ")\n",
    "\n",
    "# dnnStrategy=Strategy.createStrategy(\n",
    "#     'dnn_run_distance',{\n",
    "#         'checkpointPath':\"ckpt/\"+dnnCheckpointFileName,\n",
    "#         'numSegmentInbound':dnnNumSegmentInbound,\n",
    "#         'numSegmentOutbound':dnnNumSegmentOutbound,\n",
    "#         'unitsDict':unitsDict,\n",
    "#         'dimVehiclesVec':dimVehiclesVec,\n",
    "#     }\n",
    "# )\n",
    "dnnStrategy=Strategy.createStrategy(\n",
    "    'dnn_saved_run_distance',{\n",
    "        'savedModelPath':\"saved_model/\"+os.path.splitext(dnnCheckpointFileName)[0],\n",
    "        'numSegmentInbound':dnnNumSegmentInbound,\n",
    "        'numSegmentOutbound':dnnNumSegmentOutbound,\n",
    "    }\n",
    ")\n",
    "\n",
    "ruleStrategy=Strategy.createStrategy(\n",
    "    'run_distance',{\n",
    "        #'maxDepth':maxDepth,####\n",
    "        'timeThresForCalcReward':timeThresForCalcReward,\n",
    "        'prohibitDecreasingGoalDistance':prohibitDecreasingGoalDistance,\n",
    "        'prohibitDecreasingSpeed':prohibitDecreasingSpeed,\n",
    "        'depth':depth####\n",
    "    }\n",
    ")\n",
    "\n",
    "if dnnStrategyRatio is None or dnnStrategyRatio==0:\n",
    "    strategy=ruleStrategy\n",
    "elif ruleStrategyRatio is None or ruleStrategyRatio==0:\n",
    "    strategy=dnnStrategy\n",
    "else:\n",
    "    strategy=RandomMixStrategy({\n",
    "        dnnStrategy:dnnStrategyRatio/2,\n",
    "        ruleStrategy:ruleStrategyRatio,\n",
    "    })\n",
    "    \n",
    "runner.runStrategy(\n",
    "    strategy,\n",
    "    actionTestCount,\n",
    "    exportActionLogPath = \"action_log/{}_dnn{}_rule{}_{}.json\".format(\n",
    "        dnnCheckpointFileName.split(\".\")[0],\n",
    "        dnnStrategyRatio,\n",
    "        ruleStrategyRatio,\n",
    "        actionTestCount,\n",
    "    )\n",
    ")\n",
    "\n",
    "if exportForVisualization:\n",
    "    print(\"now exporting simulation output as json for visualization\")\n",
    "    exportJsonForVisualization(simulator_cfg_file,every_n=10,tqdm=tqdm)"
   ]
  },
  {
   "cell_type": "code",
   "execution_count": 3,
   "id": "f2c9b828",
   "metadata": {},
   "outputs": [],
   "source": [
    "# routeを使用してるのでROUND3では動かない！！！！！！！\n",
    "\n",
    "# ##################################### rule base strategyのテストを実行します（パラメータ探索機能付き）\n",
    "# ###parameters for simulator\n",
    "# simulator_cfg_file = \"cfg/simulator_round2.cfg\"\n",
    "# metric_period = 200\n",
    "# earlyStoppingDelayIndex=1.6\n",
    "\n",
    "# ###parameters for rule base agent\n",
    "# maxDepth_list=[4]\n",
    "# timeThresForCalcReward_list=[10.2]\n",
    "# prohibitDecreasingGoalDistance=True\n",
    "# prohibitDecreasingSpeed=True\n",
    "\n",
    "# ###parameters for actionSolver\n",
    "# actionTestCount_list=[1]\n",
    "# exportAgentLog=True\n",
    "\n",
    "# ###parameters for visualization\n",
    "# exportForVisualization=False\n",
    "\n",
    "# #####################################\n",
    "# runner=SimulatorRunner(\n",
    "#     simulator_cfg_file,\n",
    "#     metric_period,\n",
    "#     exportAgentLog,\n",
    "#     earlyStoppingDelayIndex,\n",
    "# )\n",
    "\n",
    "# params_list=list(itertools.product(\n",
    "#     maxDepth_list,\n",
    "#     timeThresForCalcReward_list,\n",
    "#     actionTestCount_list,\n",
    "# ))\n",
    "\n",
    "# for params in params_list:\n",
    "#     print(params)\n",
    "#     strategy=Strategy.createStrategy(\n",
    "#         'run_distance',\n",
    "#         {\n",
    "#             'maxDepth':params[0],\n",
    "#             'timeThresForCalcReward':params[1],\n",
    "#             'prohibitDecreasingGoalDistance':prohibitDecreasingGoalDistance,\n",
    "#             'prohibitDecreasingSpeed':prohibitDecreasingSpeed,\n",
    "#         }\n",
    "#     )\n",
    "#     runner.runStrategy(strategy,params[2],recordKey=params)\n",
    "\n",
    "# runner.printAllEvalRecord()    \n",
    "\n",
    "# if exportForVisualization:\n",
    "#     print(\"now exporting simulation output as json for visualization\")\n",
    "#     exportJsonForVisualization(simulator_cfg_file,every_n=10,tqdm=tqdm)"
   ]
  },
  {
   "cell_type": "code",
   "execution_count": 4,
   "id": "b1a5c6f0",
   "metadata": {},
   "outputs": [],
   "source": [
    "# #####################################\n",
    "# ###parameters for simulator\n",
    "# metric_period = 1\n",
    "# simulator_cfg_file = \"cfg/simulator_test2.cfg\"\n",
    "\n",
    "# ###parameters for agent\n",
    "# timeToActionsDict={\n",
    "#     0:{\n",
    "#         0:5,\n",
    "#         1:7,\n",
    "#     },\n",
    "#     30:{\n",
    "#         0:6,\n",
    "#         1:8,\n",
    "#     },\n",
    "#     40:{\n",
    "#         0:8,\n",
    "#         1:8,\n",
    "#     },\n",
    "#     70:{\n",
    "#         0:4,\n",
    "#         1:6,\n",
    "#     },\n",
    "#     90:{\n",
    "#         1:8,\n",
    "#     },\n",
    "# }\n",
    "# #####################################\n",
    "# runner=SimulatorRunner(\n",
    "#     simulator_cfg_file,\n",
    "#     metric_period,\n",
    "# )\n",
    "\n",
    "# runner.runActionSolver(FixedActionSolver(timeToActionsDict))\n",
    "\n",
    "# exportJsonForVisualization(simulator_cfg_file,tqdm=tqdm)"
   ]
  }
 ],
 "metadata": {
  "kernelspec": {
   "display_name": "Python 3",
   "language": "python",
   "name": "python3"
  },
  "language_info": {
   "codemirror_mode": {
    "name": "ipython",
    "version": 3
   },
   "file_extension": ".py",
   "mimetype": "text/x-python",
   "name": "python",
   "nbconvert_exporter": "python",
   "pygments_lexer": "ipython3",
   "version": "3.7.5"
  }
 },
 "nbformat": 4,
 "nbformat_minor": 5
}
