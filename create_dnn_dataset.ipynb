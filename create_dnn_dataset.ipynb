{
 "cells": [
  {
   "cell_type": "code",
   "execution_count": 1,
   "id": "82cb7241",
   "metadata": {},
   "outputs": [
    {
     "name": "stdout",
     "output_type": "stream",
     "text": [
      "2.5.0\n"
     ]
    },
    {
     "name": "stderr",
     "output_type": "stream",
     "text": [
      "/usr/local/lib/python3.7/dist-packages/ray/autoscaler/_private/cli_logger.py:61: FutureWarning: Not all Ray CLI dependencies were found. In Ray 1.4+, the Ray CLI, autoscaler, and dashboard will only be usable via `pip install 'ray[default]'`. Please update your install command.\n",
      "  \"update your install command.\", FutureWarning)\n"
     ]
    }
   ],
   "source": [
    "import logging\n",
    "\n",
    "import numpy as np\n",
    "import tensorflow as tf\n",
    "print(tf.__version__)\n",
    "from tqdm.notebook import tqdm\n",
    "\n",
    "import sys\n",
    "sys.path.append(\"agent/util\")\n",
    "from simulation import EpisodeRunner,logger as simulation_logger\n",
    "simulation_logger.setLevel(logging.ERROR)\n",
    "\n",
    "from dnn_model import DataSetCreationActionSolver\n",
    "from strategy import Strategy,RandomMixStrategy,RandomStrategy\n",
    "\n",
    "sys.path.append(\"agent\")\n",
    "from CBEngine_round3 import CBEngine_round3 as CBEngine_rllib_class"
   ]
  },
  {
   "cell_type": "code",
   "execution_count": 2,
   "id": "1139d21d",
   "metadata": {},
   "outputs": [
    {
     "data": {
      "application/vnd.jupyter.widget-view+json": {
       "model_id": "b79e06845b474ba7bba997a9b644e7e9",
       "version_major": 2,
       "version_minor": 0
      },
      "text/plain": [
       "0it [00:00, ?it/s]"
      ]
     },
     "metadata": {},
     "output_type": "display_data"
    },
    {
     "name": "stdout",
     "output_type": "stream",
     "text": [
      "False\n",
      "before action\n",
      "after action\n",
      "end action\n",
      "True\n",
      "before action\n",
      "after action\n",
      "end action\n",
      "True\n",
      "before action\n",
      "after action\n",
      "end action\n",
      "True\n",
      "before action\n",
      "after action\n",
      "end action\n",
      "True\n",
      "before action\n",
      "after action\n",
      "end action\n",
      "True\n",
      "before action\n",
      "after action\n",
      "end action\n",
      "True\n"
     ]
    },
    {
     "ename": "AssertionError",
     "evalue": "+2 hop distanace",
     "output_type": "error",
     "traceback": [
      "\u001b[0;31m---------------------------------------------------------------------------\u001b[0m",
      "\u001b[0;31mAssertionError\u001b[0m                            Traceback (most recent call last)",
      "\u001b[0;32m<ipython-input-2-adb040104026>\u001b[0m in \u001b[0;36m<module>\u001b[0;34m\u001b[0m\n\u001b[1;32m     70\u001b[0m     \u001b[0mearlyStoppingDelayIndex\u001b[0m\u001b[0;34m,\u001b[0m\u001b[0;34m\u001b[0m\u001b[0;34m\u001b[0m\u001b[0m\n\u001b[1;32m     71\u001b[0m     \u001b[0mbreakReplayBufferLength\u001b[0m\u001b[0;34m=\u001b[0m\u001b[0mbufferLength\u001b[0m\u001b[0;34m,\u001b[0m\u001b[0;34m\u001b[0m\u001b[0;34m\u001b[0m\u001b[0m\n\u001b[0;32m---> 72\u001b[0;31m     \u001b[0mtqdm\u001b[0m\u001b[0;34m=\u001b[0m\u001b[0mtqdm\u001b[0m\u001b[0;34m\u001b[0m\u001b[0;34m\u001b[0m\u001b[0m\n\u001b[0m\u001b[1;32m     73\u001b[0m )\n\u001b[1;32m     74\u001b[0m \u001b[0;34m\u001b[0m\u001b[0m\n",
      "\u001b[0;32m/starter-kit/agent/util/simulation.py\u001b[0m in \u001b[0;36mrunLoop\u001b[0;34m(self, runType, earlyStoppingDelayIndex, eval_every_n_episode, breakReplayBufferLength, breakNumEpsiode, tqdm)\u001b[0m\n\u001b[1;32m    190\u001b[0m         \u001b[0;32mif\u001b[0m \u001b[0mtqdm\u001b[0m \u001b[0;32mis\u001b[0m \u001b[0;32mnot\u001b[0m \u001b[0;32mNone\u001b[0m\u001b[0;34m:\u001b[0m\u001b[0;34m\u001b[0m\u001b[0;34m\u001b[0m\u001b[0m\n\u001b[1;32m    191\u001b[0m             \u001b[0;32mwith\u001b[0m \u001b[0mtqdm\u001b[0m\u001b[0;34m(\u001b[0m\u001b[0;34m)\u001b[0m \u001b[0;32mas\u001b[0m \u001b[0mpbar\u001b[0m\u001b[0;34m:\u001b[0m\u001b[0;34m\u001b[0m\u001b[0;34m\u001b[0m\u001b[0m\n\u001b[0;32m--> 192\u001b[0;31m                 \u001b[0m_loop\u001b[0m\u001b[0;34m(\u001b[0m\u001b[0mpbar\u001b[0m\u001b[0;34m)\u001b[0m\u001b[0;34m\u001b[0m\u001b[0;34m\u001b[0m\u001b[0m\n\u001b[0m\u001b[1;32m    193\u001b[0m         \u001b[0;32melse\u001b[0m\u001b[0;34m:\u001b[0m\u001b[0;34m\u001b[0m\u001b[0;34m\u001b[0m\u001b[0m\n\u001b[1;32m    194\u001b[0m             \u001b[0m_loop\u001b[0m\u001b[0;34m(\u001b[0m\u001b[0;34m)\u001b[0m\u001b[0;34m\u001b[0m\u001b[0;34m\u001b[0m\u001b[0m\n",
      "\u001b[0;32m/starter-kit/agent/util/simulation.py\u001b[0m in \u001b[0;36m_loop\u001b[0;34m(pbar)\u001b[0m\n\u001b[1;32m    169\u001b[0m             \u001b[0mstart_time\u001b[0m \u001b[0;34m=\u001b[0m \u001b[0mtime\u001b[0m\u001b[0;34m.\u001b[0m\u001b[0mtime\u001b[0m\u001b[0;34m(\u001b[0m\u001b[0;34m)\u001b[0m\u001b[0;34m\u001b[0m\u001b[0;34m\u001b[0m\u001b[0m\n\u001b[1;32m    170\u001b[0m             \u001b[0;32mwhile\u001b[0m \u001b[0;32mTrue\u001b[0m\u001b[0;34m:\u001b[0m\u001b[0;34m\u001b[0m\u001b[0;34m\u001b[0m\u001b[0m\n\u001b[0;32m--> 171\u001b[0;31m                 \u001b[0mself\u001b[0m\u001b[0;34m.\u001b[0m\u001b[0m_runEpisode\u001b[0m\u001b[0;34m(\u001b[0m\u001b[0mrunType\u001b[0m\u001b[0;34m,\u001b[0m\u001b[0mpbar\u001b[0m\u001b[0;34m,\u001b[0m\u001b[0mepisodes\u001b[0m\u001b[0;34m,\u001b[0m\u001b[0mearlyStoppingDelayIndex\u001b[0m\u001b[0;34m=\u001b[0m\u001b[0mearlyStoppingDelayIndex\u001b[0m\u001b[0;34m)\u001b[0m\u001b[0;34m\u001b[0m\u001b[0;34m\u001b[0m\u001b[0m\n\u001b[0m\u001b[1;32m    172\u001b[0m                 \u001b[0mepisodes\u001b[0m\u001b[0;34m+=\u001b[0m\u001b[0;36m1\u001b[0m\u001b[0;34m\u001b[0m\u001b[0;34m\u001b[0m\u001b[0m\n\u001b[1;32m    173\u001b[0m                 \u001b[0;32mif\u001b[0m \u001b[0meval_every_n_episode\u001b[0m \u001b[0;32mis\u001b[0m \u001b[0;32mnot\u001b[0m \u001b[0;32mNone\u001b[0m \u001b[0;32mand\u001b[0m \u001b[0mrunType\u001b[0m\u001b[0;34m==\u001b[0m\u001b[0;34m\"train\"\u001b[0m \u001b[0;32mand\u001b[0m \u001b[0mepisodes\u001b[0m \u001b[0;34m%\u001b[0m \u001b[0meval_every_n_episode\u001b[0m\u001b[0;34m==\u001b[0m\u001b[0;36m0\u001b[0m\u001b[0;34m:\u001b[0m\u001b[0;34m\u001b[0m\u001b[0;34m\u001b[0m\u001b[0m\n",
      "\u001b[0;32m/starter-kit/agent/util/simulation.py\u001b[0m in \u001b[0;36m_runEpisode\u001b[0;34m(self, runType, pbar, numRunnedEpisodes, earlyStoppingDelayIndex)\u001b[0m\n\u001b[1;32m    126\u001b[0m             \u001b[0mrunType\u001b[0m\u001b[0;34m,\u001b[0m\u001b[0;34m\u001b[0m\u001b[0;34m\u001b[0m\u001b[0m\n\u001b[1;32m    127\u001b[0m             \u001b[0mearlyStoppingDelayIndex\u001b[0m\u001b[0;34m=\u001b[0m\u001b[0mearlyStoppingDelayIndex\u001b[0m\u001b[0;34m,\u001b[0m\u001b[0;34m\u001b[0m\u001b[0;34m\u001b[0m\u001b[0m\n\u001b[0;32m--> 128\u001b[0;31m             \u001b[0mpbar\u001b[0m\u001b[0;34m=\u001b[0m\u001b[0mpbar\u001b[0m\u001b[0;34m\u001b[0m\u001b[0;34m\u001b[0m\u001b[0m\n\u001b[0m\u001b[1;32m    129\u001b[0m         )\n\u001b[1;32m    130\u001b[0m         \u001b[0;32mif\u001b[0m \u001b[0mlen\u001b[0m\u001b[0;34m(\u001b[0m\u001b[0mtimeToDelayIndexDict\u001b[0m\u001b[0;34m)\u001b[0m\u001b[0;34m>\u001b[0m\u001b[0;36m0\u001b[0m\u001b[0;34m:\u001b[0m\u001b[0;34m\u001b[0m\u001b[0;34m\u001b[0m\u001b[0m\n",
      "\u001b[0;32m/starter-kit/agent/util/simulation.py\u001b[0m in \u001b[0;36mrunOneEpisode\u001b[0;34m(self, agent, runType, earlyStoppingDelayIndex, pbar)\u001b[0m\n\u001b[1;32m    549\u001b[0m         \u001b[0mlogger\u001b[0m\u001b[0;34m.\u001b[0m\u001b[0minfo\u001b[0m\u001b[0;34m(\u001b[0m\u001b[0;34m\"start to simulate\"\u001b[0m\u001b[0;34m)\u001b[0m\u001b[0;34m\u001b[0m\u001b[0;34m\u001b[0m\u001b[0m\n\u001b[1;32m    550\u001b[0m \u001b[0;34m\u001b[0m\u001b[0m\n\u001b[0;32m--> 551\u001b[0;31m         \u001b[0mself\u001b[0m\u001b[0;34m.\u001b[0m\u001b[0m_run\u001b[0m\u001b[0;34m(\u001b[0m\u001b[0magent\u001b[0m\u001b[0;34m,\u001b[0m\u001b[0mrunType\u001b[0m\u001b[0;34m=\u001b[0m\u001b[0mrunType\u001b[0m\u001b[0;34m,\u001b[0m\u001b[0mearlyStoppingDelayIndex\u001b[0m\u001b[0;34m=\u001b[0m\u001b[0mearlyStoppingDelayIndex\u001b[0m\u001b[0;34m,\u001b[0m\u001b[0mpbar\u001b[0m\u001b[0;34m=\u001b[0m\u001b[0mpbar\u001b[0m\u001b[0;34m)\u001b[0m\u001b[0;34m\u001b[0m\u001b[0;34m\u001b[0m\u001b[0m\n\u001b[0m\u001b[1;32m    552\u001b[0m         vehicleDataSetTimeSeries = VehicleDataSetTimeSeries.fromEnvLogDir(\n\u001b[1;32m    553\u001b[0m             \u001b[0mself\u001b[0m\u001b[0;34m.\u001b[0m\u001b[0msimulator_configs\u001b[0m\u001b[0;34m[\u001b[0m\u001b[0;34m'report_log_addr'\u001b[0m\u001b[0;34m]\u001b[0m\u001b[0;34m,\u001b[0m\u001b[0;34m\u001b[0m\u001b[0;34m\u001b[0m\u001b[0m\n",
      "\u001b[0;32m/starter-kit/agent/util/simulation.py\u001b[0m in \u001b[0;36m_run\u001b[0;34m(self, agent, runType, earlyStoppingDelayIndex, pbar)\u001b[0m\n\u001b[1;32m    533\u001b[0m                             \u001b[0;32mreturn\u001b[0m \u001b[0mobservations\u001b[0m\u001b[0;34m,\u001b[0m \u001b[0mrewards\u001b[0m\u001b[0;34m,\u001b[0m \u001b[0mdones\u001b[0m\u001b[0;34m,\u001b[0m \u001b[0minfo\u001b[0m\u001b[0;34m,\u001b[0m\u001b[0;32mFalse\u001b[0m\u001b[0;34m\u001b[0m\u001b[0;34m\u001b[0m\u001b[0m\n\u001b[1;32m    534\u001b[0m \u001b[0;34m\u001b[0m\u001b[0m\n\u001b[0;32m--> 535\u001b[0;31m         \u001b[0mobservations\u001b[0m\u001b[0;34m,\u001b[0m \u001b[0mrewards\u001b[0m\u001b[0;34m,\u001b[0m \u001b[0mdones\u001b[0m\u001b[0;34m,\u001b[0m \u001b[0minfo\u001b[0m\u001b[0;34m,\u001b[0m \u001b[0mcompleted\u001b[0m\u001b[0;34m=\u001b[0m\u001b[0m_roop\u001b[0m\u001b[0;34m(\u001b[0m\u001b[0mobservations\u001b[0m\u001b[0;34m,\u001b[0m\u001b[0minfo\u001b[0m\u001b[0;34m)\u001b[0m\u001b[0;34m\u001b[0m\u001b[0;34m\u001b[0m\u001b[0m\n\u001b[0m\u001b[1;32m    536\u001b[0m         self._act(agent,runType,{\n\u001b[1;32m    537\u001b[0m             \u001b[0;34m'observations'\u001b[0m\u001b[0;34m:\u001b[0m\u001b[0mobservations\u001b[0m\u001b[0;34m,\u001b[0m\u001b[0;34m\u001b[0m\u001b[0;34m\u001b[0m\u001b[0m\n",
      "\u001b[0;32m/starter-kit/agent/util/simulation.py\u001b[0m in \u001b[0;36m_roop\u001b[0;34m(observations, info)\u001b[0m\n\u001b[1;32m    502\u001b[0m                 actions=self._act(agent,runType,{\n\u001b[1;32m    503\u001b[0m                     \u001b[0;34m'observations'\u001b[0m\u001b[0;34m:\u001b[0m\u001b[0mobservations\u001b[0m\u001b[0;34m,\u001b[0m\u001b[0;34m\u001b[0m\u001b[0;34m\u001b[0m\u001b[0m\n\u001b[0;32m--> 504\u001b[0;31m                     \u001b[0;34m'info'\u001b[0m\u001b[0;34m:\u001b[0m\u001b[0minfo\u001b[0m\u001b[0;34m,\u001b[0m\u001b[0;34m\u001b[0m\u001b[0;34m\u001b[0m\u001b[0m\n\u001b[0m\u001b[1;32m    505\u001b[0m                 })\n\u001b[1;32m    506\u001b[0m                 \u001b[0mobservations\u001b[0m\u001b[0;34m,\u001b[0m \u001b[0mrewards\u001b[0m\u001b[0;34m,\u001b[0m \u001b[0mdones\u001b[0m\u001b[0;34m,\u001b[0m \u001b[0minfo\u001b[0m \u001b[0;34m=\u001b[0m \u001b[0mself\u001b[0m\u001b[0;34m.\u001b[0m\u001b[0menv\u001b[0m\u001b[0;34m.\u001b[0m\u001b[0mstep\u001b[0m\u001b[0;34m(\u001b[0m\u001b[0mactions\u001b[0m\u001b[0;34m)\u001b[0m\u001b[0;34m\u001b[0m\u001b[0;34m\u001b[0m\u001b[0m\n",
      "\u001b[0;32m/starter-kit/agent/util/simulation.py\u001b[0m in \u001b[0;36m_act\u001b[0;34m(agent, runType, obs, exitType)\u001b[0m\n\u001b[1;32m    486\u001b[0m             \u001b[0;32mreturn\u001b[0m \u001b[0magent\u001b[0m\u001b[0;34m.\u001b[0m\u001b[0mact\u001b[0m\u001b[0;34m(\u001b[0m\u001b[0mobs\u001b[0m\u001b[0;34m)\u001b[0m\u001b[0;34m\u001b[0m\u001b[0;34m\u001b[0m\u001b[0m\n\u001b[1;32m    487\u001b[0m         \u001b[0;32melse\u001b[0m\u001b[0;34m:\u001b[0m\u001b[0;34m\u001b[0m\u001b[0;34m\u001b[0m\u001b[0m\n\u001b[0;32m--> 488\u001b[0;31m             \u001b[0;32mreturn\u001b[0m \u001b[0magent\u001b[0m\u001b[0;34m.\u001b[0m\u001b[0mactWithRunType\u001b[0m\u001b[0;34m(\u001b[0m\u001b[0mobs\u001b[0m\u001b[0;34m,\u001b[0m\u001b[0mrunType\u001b[0m\u001b[0;34m,\u001b[0m\u001b[0mexitType\u001b[0m\u001b[0;34m)\u001b[0m\u001b[0;34m\u001b[0m\u001b[0;34m\u001b[0m\u001b[0m\n\u001b[0m\u001b[1;32m    489\u001b[0m \u001b[0;34m\u001b[0m\u001b[0m\n\u001b[1;32m    490\u001b[0m     \u001b[0;32mdef\u001b[0m \u001b[0m_run\u001b[0m\u001b[0;34m(\u001b[0m\u001b[0mself\u001b[0m\u001b[0;34m,\u001b[0m\u001b[0magent\u001b[0m\u001b[0;34m,\u001b[0m\u001b[0mrunType\u001b[0m\u001b[0;34m=\u001b[0m\u001b[0;32mNone\u001b[0m\u001b[0;34m,\u001b[0m\u001b[0mearlyStoppingDelayIndex\u001b[0m\u001b[0;34m=\u001b[0m\u001b[0;32mNone\u001b[0m\u001b[0;34m,\u001b[0m\u001b[0mpbar\u001b[0m\u001b[0;34m=\u001b[0m\u001b[0;32mNone\u001b[0m\u001b[0;34m)\u001b[0m\u001b[0;34m:\u001b[0m\u001b[0;34m\u001b[0m\u001b[0;34m\u001b[0m\u001b[0m\n",
      "\u001b[0;32m/starter-kit/agent/util/simulation.py\u001b[0m in \u001b[0;36mactWithRunType\u001b[0;34m(self, obs, runType, exitType)\u001b[0m\n\u001b[1;32m    247\u001b[0m             \u001b[0mself\u001b[0m\u001b[0;34m.\u001b[0m\u001b[0mroadNet\u001b[0m\u001b[0;34m\u001b[0m\u001b[0;34m\u001b[0m\u001b[0m\n\u001b[1;32m    248\u001b[0m         )\n\u001b[0;32m--> 249\u001b[0;31m         \u001b[0mactions\u001b[0m\u001b[0;34m=\u001b[0m\u001b[0mself\u001b[0m\u001b[0;34m.\u001b[0m\u001b[0mactionSolver\u001b[0m\u001b[0;34m.\u001b[0m\u001b[0mactWithRunType\u001b[0m\u001b[0;34m(\u001b[0m\u001b[0mobservations\u001b[0m\u001b[0;34m,\u001b[0m\u001b[0mrunType\u001b[0m\u001b[0;34m,\u001b[0m\u001b[0mexitType\u001b[0m\u001b[0;34m=\u001b[0m\u001b[0mexitType\u001b[0m\u001b[0;34m,\u001b[0m \u001b[0mdebug\u001b[0m\u001b[0;34m=\u001b[0m\u001b[0mself\u001b[0m\u001b[0;34m.\u001b[0m\u001b[0mdebug\u001b[0m\u001b[0;34m)\u001b[0m\u001b[0;34m\u001b[0m\u001b[0;34m\u001b[0m\u001b[0m\n\u001b[0m\u001b[1;32m    250\u001b[0m         \u001b[0;32mif\u001b[0m \u001b[0mself\u001b[0m\u001b[0;34m.\u001b[0m\u001b[0mprintActionStat\u001b[0m\u001b[0;34m:\u001b[0m\u001b[0;34m\u001b[0m\u001b[0;34m\u001b[0m\u001b[0m\n\u001b[1;32m    251\u001b[0m             \u001b[0mprint\u001b[0m\u001b[0;34m(\u001b[0m\u001b[0mself\u001b[0m\u001b[0;34m.\u001b[0m\u001b[0mactionSolver\u001b[0m\u001b[0;34m.\u001b[0m\u001b[0mgetStatMessage\u001b[0m\u001b[0;34m(\u001b[0m\u001b[0;34m)\u001b[0m\u001b[0;34m)\u001b[0m\u001b[0;34m\u001b[0m\u001b[0;34m\u001b[0m\u001b[0m\n",
      "\u001b[0;32m/starter-kit/agent/util/simulation.py\u001b[0m in \u001b[0;36mactWithRunType\u001b[0;34m(self, observations, runType, exitType, debug)\u001b[0m\n\u001b[1;32m    328\u001b[0m             \u001b[0mrunType\u001b[0m\u001b[0;34m,\u001b[0m\u001b[0;34m\u001b[0m\u001b[0;34m\u001b[0m\u001b[0m\n\u001b[1;32m    329\u001b[0m             \u001b[0mexitType\u001b[0m\u001b[0;34m,\u001b[0m\u001b[0;34m\u001b[0m\u001b[0;34m\u001b[0m\u001b[0m\n\u001b[0;32m--> 330\u001b[0;31m             debug=debug)\n\u001b[0m\u001b[1;32m    331\u001b[0m         \u001b[0;31m############################\u001b[0m\u001b[0;34m\u001b[0m\u001b[0;34m\u001b[0m\u001b[0;34m\u001b[0m\u001b[0m\n\u001b[1;32m    332\u001b[0m         \u001b[0mself\u001b[0m\u001b[0;34m.\u001b[0m\u001b[0mprevActCountInEpisode\u001b[0m\u001b[0;34m+=\u001b[0m\u001b[0;36m1\u001b[0m\u001b[0;34m\u001b[0m\u001b[0;34m\u001b[0m\u001b[0m\n",
      "\u001b[0;32m/starter-kit/agent/util/dnn_model.py\u001b[0m in \u001b[0;36mdecideActions\u001b[0;34m(self, observations, prevActCountInEpisode, runType, exitType, debug)\u001b[0m\n\u001b[1;32m    426\u001b[0m             \u001b[0mtracer\u001b[0m\u001b[0;34m=\u001b[0m\u001b[0mself\u001b[0m\u001b[0;34m.\u001b[0m\u001b[0m_createRoadTracer\u001b[0m\u001b[0;34m(\u001b[0m\u001b[0mobservations\u001b[0m\u001b[0;34m)\u001b[0m\u001b[0;34m\u001b[0m\u001b[0;34m\u001b[0m\u001b[0m\n\u001b[1;32m    427\u001b[0m             \u001b[0mprevTracer\u001b[0m\u001b[0;34m=\u001b[0m\u001b[0mself\u001b[0m\u001b[0;34m.\u001b[0m\u001b[0m_createPrevRoadTracer\u001b[0m\u001b[0;34m(\u001b[0m\u001b[0;34m)\u001b[0m\u001b[0;34m\u001b[0m\u001b[0;34m\u001b[0m\u001b[0m\n\u001b[0;32m--> 428\u001b[0;31m             \u001b[0mself\u001b[0m\u001b[0;34m.\u001b[0m\u001b[0m_createExampleInit\u001b[0m\u001b[0;34m(\u001b[0m\u001b[0mprevTracer\u001b[0m\u001b[0;34m,\u001b[0m \u001b[0mtracer\u001b[0m\u001b[0;34m)\u001b[0m\u001b[0;34m\u001b[0m\u001b[0;34m\u001b[0m\u001b[0m\n\u001b[0m\u001b[1;32m    429\u001b[0m \u001b[0;34m\u001b[0m\u001b[0m\n\u001b[1;32m    430\u001b[0m         \u001b[0mprint\u001b[0m\u001b[0;34m(\u001b[0m\u001b[0;34m\"before action\"\u001b[0m\u001b[0;34m)\u001b[0m\u001b[0;34m\u001b[0m\u001b[0;34m\u001b[0m\u001b[0m\n",
      "\u001b[0;32m/starter-kit/agent/util/dnn_model.py\u001b[0m in \u001b[0;36m_createExampleInit\u001b[0;34m(self, prevTracer, tracer)\u001b[0m\n\u001b[1;32m    388\u001b[0m                         \u001b[0mtravelDistance\u001b[0m \u001b[0;34m=\u001b[0m \u001b[0mvehicleObjFuture\u001b[0m\u001b[0;34m.\u001b[0m\u001b[0mdistance\u001b[0m \u001b[0;34m+\u001b[0m \u001b[0mpassedRoadObj\u001b[0m\u001b[0;34m.\u001b[0m\u001b[0mroadSegment\u001b[0m\u001b[0;34m.\u001b[0m\u001b[0mlength\u001b[0m \u001b[0;34m+\u001b[0m \u001b[0mroadObj\u001b[0m\u001b[0;34m.\u001b[0m\u001b[0mroadSegment\u001b[0m\u001b[0;34m.\u001b[0m\u001b[0mlength\u001b[0m \u001b[0;34m-\u001b[0m \u001b[0mvehicleObj\u001b[0m\u001b[0;34m.\u001b[0m\u001b[0mdistance\u001b[0m\u001b[0;34m\u001b[0m\u001b[0;34m\u001b[0m\u001b[0m\n\u001b[1;32m    389\u001b[0m                         \u001b[0;32mbreak\u001b[0m\u001b[0;34m\u001b[0m\u001b[0;34m\u001b[0m\u001b[0m\n\u001b[0;32m--> 390\u001b[0;31m                 \u001b[0;32massert\u001b[0m \u001b[0mtravelDistance\u001b[0m \u001b[0;34m>\u001b[0m \u001b[0;36m0\u001b[0m\u001b[0;34m,\u001b[0m \u001b[0;34m\"+2 hop distanace\"\u001b[0m\u001b[0;34m\u001b[0m\u001b[0;34m\u001b[0m\u001b[0m\n\u001b[0m\u001b[1;32m    391\u001b[0m                 \u001b[0mself\u001b[0m\u001b[0;34m.\u001b[0m\u001b[0mroad2vehicles\u001b[0m\u001b[0;34m[\u001b[0m\u001b[0mvehicleObj\u001b[0m\u001b[0;34m.\u001b[0m\u001b[0mroadId\u001b[0m\u001b[0;34m]\u001b[0m\u001b[0;34m[\u001b[0m\u001b[0;34m'totalTravelDistance'\u001b[0m\u001b[0;34m]\u001b[0m \u001b[0;34m+=\u001b[0m \u001b[0mtravelDistance\u001b[0m\u001b[0;34m\u001b[0m\u001b[0;34m\u001b[0m\u001b[0m\n\u001b[1;32m    392\u001b[0m \u001b[0;34m\u001b[0m\u001b[0m\n",
      "\u001b[0;31mAssertionError\u001b[0m: +2 hop distanace"
     ]
    }
   ],
   "source": [
    "#####################################\n",
    "###parameters for simulator\n",
    "simulator_cfg_file = \"cfg/simulator_round2.cfg\"\n",
    "metric_period = 20\n",
    "earlyStoppingDelayIndex=1.6\n",
    "bufferLength=10000\n",
    "DEBUG=False\n",
    "\n",
    "###parameters for DNN agent\n",
    "dnnCheckpointFileName=\"round3.ckpt\"\n",
    "#dnnNumSegmentInbound=18\n",
    "#dnnNumSegmentOutbound=18\n",
    "#dimVehiclesVec=64\n",
    "#unitsDict={\n",
    "#    'inbound':[64,64,64,64],\n",
    "#}\n",
    "\n",
    "###parameters for rule base agent\n",
    "maxDepth=4\n",
    "timeThresForCalcReward=10.2\n",
    "prohibitDecreasingGoalDistance=True\n",
    "prohibitDecreasingSpeed=True\n",
    "\n",
    "###parameters for mixing strategy \n",
    "dnnStrategyRatio=0.5\n",
    "ruleStrategyRatio=0.5\n",
    "\n",
    "###parameters for actionSolver\n",
    "tfrecordPath=\"tfrecord/round3.tfrecord\"\n",
    "saveNumSegmentInbound = 18\n",
    "saveNumSegmentOutbound = 18\n",
    "\n",
    "#####################################\n",
    "#strategy=RandomMixStrategy({\n",
    "#    Strategy.createStrategy(\n",
    "#        'run_distance',\n",
    "#        {\n",
    "#            'maxDepth':maxDepth,\n",
    "#            'timeThresForCalcReward':timeThresForCalcReward,\n",
    "#            'prohibitDecreasingGoalDistance':prohibitDecreasingGoalDistance,\n",
    "#            'prohibitDecreasingSpeed':prohibitDecreasingSpeed,\n",
    "#        }\n",
    "#    ):ruleStrategyRatio,\n",
    "#    Strategy.createStrategy(\n",
    "#        'dnn_run_distance',{\n",
    "#            'checkpointPath':\"ckpt/\"+dnnCheckpointFileName,\n",
    "#            'numSegmentInbound':dnnNumSegmentInbound,\n",
    "#            'numSegmentOutbound':dnnNumSegmentOutbound,\n",
    "#            'unitsDict':unitsDict,\n",
    "#            'dimVehiclesVec':dimVehiclesVec,\n",
    "#        }\n",
    "#    ):dnnStrategyRatio,\n",
    "#})\n",
    "\n",
    "strategy = RandomStrategy()\n",
    "\n",
    "dataSetCreator=DataSetCreationActionSolver(\n",
    "    strategy=strategy\n",
    ")\n",
    "runner=EpisodeRunner(\n",
    "    dataSetCreator,\n",
    "    CBEngine_rllib_class,\n",
    "    simulator_cfg_file,\n",
    "    metric_period,\n",
    "    debug=DEBUG\n",
    ")\n",
    "            \n",
    "runner.runLoop(\n",
    "    \"strategy\",\n",
    "    earlyStoppingDelayIndex,\n",
    "    breakReplayBufferLength=bufferLength,\n",
    "    tqdm=tqdm\n",
    ")\n",
    "\n",
    "dataSetCreator.createTFRecord(tfrecordPath)"
   ]
  },
  {
   "cell_type": "code",
   "execution_count": null,
   "id": "1a290171",
   "metadata": {},
   "outputs": [],
   "source": [
    "dataSetCreator.sectionNum"
   ]
  }
 ],
 "metadata": {
  "kernelspec": {
   "display_name": "Python 3",
   "language": "python",
   "name": "python3"
  },
  "language_info": {
   "codemirror_mode": {
    "name": "ipython",
    "version": 3
   },
   "file_extension": ".py",
   "mimetype": "text/x-python",
   "name": "python",
   "nbconvert_exporter": "python",
   "pygments_lexer": "ipython3",
   "version": "3.7.5"
  }
 },
 "nbformat": 4,
 "nbformat_minor": 5
}
