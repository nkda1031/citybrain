{
 "cells": [
  {
   "cell_type": "code",
   "execution_count": 2,
   "id": "fd57bc18",
   "metadata": {},
   "outputs": [],
   "source": [
    "import os\n",
    "import sys\n",
    "sys.path.append(\"agent/util\")\n",
    "from roadnet_util import RoadNet\n",
    "\n",
    "path='./data/roadnet_round2.txt'\n",
    "roadNet=RoadNet.createFromRoadNetFile(path)\n",
    "roadNet.exportAsJson(os.path.splitext(path)[0]+\".json\")"
   ]
  },
  {
   "cell_type": "code",
   "execution_count": 3,
   "id": "6baba38f",
   "metadata": {},
   "outputs": [],
   "source": [
    "import os\n",
    "import sys\n",
    "sys.path.append(\"agent/util\")\n",
    "from flow_util import FlowDataSet\n",
    "\n",
    "path='./data/flow_round2.txt'\n",
    "flowDS=FlowDataSet.createFromFlowFile(path)\n",
    "flowDS.exportAsJson(os.path.splitext(path)[0]+\".json\")"
   ]
  }
 ],
 "metadata": {
  "kernelspec": {
   "display_name": "Python 3",
   "language": "python",
   "name": "python3"
  },
  "language_info": {
   "codemirror_mode": {
    "name": "ipython",
    "version": 3
   },
   "file_extension": ".py",
   "mimetype": "text/x-python",
   "name": "python",
   "nbconvert_exporter": "python",
   "pygments_lexer": "ipython3",
   "version": "3.7.5"
  }
 },
 "nbformat": 4,
 "nbformat_minor": 5
}
